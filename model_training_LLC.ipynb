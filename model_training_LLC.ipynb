{
 "cells": [
  {
   "cell_type": "markdown",
   "metadata": {
    "id": "7DBlZF-tqDoG"
   },
   "source": [
    "## Model Training"
   ]
  },
  {
   "cell_type": "markdown",
   "metadata": {
    "id": "eWlWtlOcqQSR"
   },
   "source": [
    "### Data Reading"
   ]
  },
  {
   "cell_type": "code",
   "execution_count": 1,
   "metadata": {
    "id": "DcORWID43rnO"
   },
   "outputs": [],
   "source": [
    "import pandas as pd\n",
    "import numpy as np\n",
    "from sklearn.model_selection import train_test_split, cross_val_score\n",
    "from sklearn.linear_model import LassoCV\n",
    "from sklearn.metrics import mean_squared_error, r2_score"
   ]
  },
  {
   "cell_type": "code",
   "execution_count": 5,
   "metadata": {
    "id": "tiYWVHABqsH4"
   },
   "outputs": [],
   "source": [
    "df = pd.read_csv(\"df_final.csv\")"
   ]
  },
  {
   "cell_type": "code",
   "execution_count": 6,
   "metadata": {
    "colab": {
     "base_uri": "https://localhost:8080/",
     "height": 342
    },
    "id": "n4WBPB8Eqzif",
    "outputId": "305fe6f5-3cd8-49be-82ee-5bdfff128e2d"
   },
   "outputs": [
    {
     "data": {
      "text/html": [
       "<div>\n",
       "<style scoped>\n",
       "    .dataframe tbody tr th:only-of-type {\n",
       "        vertical-align: middle;\n",
       "    }\n",
       "\n",
       "    .dataframe tbody tr th {\n",
       "        vertical-align: top;\n",
       "    }\n",
       "\n",
       "    .dataframe thead th {\n",
       "        text-align: right;\n",
       "    }\n",
       "</style>\n",
       "<table border=\"1\" class=\"dataframe\">\n",
       "  <thead>\n",
       "    <tr style=\"text-align: right;\">\n",
       "      <th></th>\n",
       "      <th>DATE</th>\n",
       "      <th>p_saving_rate</th>\n",
       "      <th>target</th>\n",
       "      <th>mortgage_rate</th>\n",
       "      <th>IPI_Cement</th>\n",
       "      <th>PPI_Cement</th>\n",
       "      <th>permit</th>\n",
       "      <th>PPI_Concrete</th>\n",
       "      <th>population</th>\n",
       "      <th>new_private_house</th>\n",
       "      <th>...</th>\n",
       "      <th>new_private_hw_under</th>\n",
       "      <th>GDP</th>\n",
       "      <th>home_ow_rate</th>\n",
       "      <th>house_st</th>\n",
       "      <th>total_emp_cons</th>\n",
       "      <th>labor_percent</th>\n",
       "      <th>all_Const_Emp</th>\n",
       "      <th>monthly_supply</th>\n",
       "      <th>unemployed_rate</th>\n",
       "      <th>MSPUS</th>\n",
       "    </tr>\n",
       "  </thead>\n",
       "  <tbody>\n",
       "    <tr>\n",
       "      <th>0</th>\n",
       "      <td>1987-01-01</td>\n",
       "      <td>9.4</td>\n",
       "      <td>63.735</td>\n",
       "      <td>9.2040</td>\n",
       "      <td>123.7373</td>\n",
       "      <td>100.1</td>\n",
       "      <td>1690.0</td>\n",
       "      <td>4.703204</td>\n",
       "      <td>241857.0</td>\n",
       "      <td>7974.739004</td>\n",
       "      <td>...</td>\n",
       "      <td>1090.0</td>\n",
       "      <td>4722.156</td>\n",
       "      <td>63.9</td>\n",
       "      <td>1774.0</td>\n",
       "      <td>5007.0</td>\n",
       "      <td>65.4</td>\n",
       "      <td>722.3</td>\n",
       "      <td>6.0</td>\n",
       "      <td>6.6</td>\n",
       "      <td>97900.0</td>\n",
       "    </tr>\n",
       "    <tr>\n",
       "      <th>1</th>\n",
       "      <td>1987-02-01</td>\n",
       "      <td>8.2</td>\n",
       "      <td>64.135</td>\n",
       "      <td>9.0825</td>\n",
       "      <td>123.1670</td>\n",
       "      <td>100.8</td>\n",
       "      <td>1689.0</td>\n",
       "      <td>4.703204</td>\n",
       "      <td>242005.0</td>\n",
       "      <td>7502.244305</td>\n",
       "      <td>...</td>\n",
       "      <td>1096.0</td>\n",
       "      <td>4722.156</td>\n",
       "      <td>63.9</td>\n",
       "      <td>1784.0</td>\n",
       "      <td>5038.0</td>\n",
       "      <td>65.5</td>\n",
       "      <td>724.2</td>\n",
       "      <td>6.2</td>\n",
       "      <td>6.6</td>\n",
       "      <td>97900.0</td>\n",
       "    </tr>\n",
       "    <tr>\n",
       "      <th>2</th>\n",
       "      <td>1987-03-01</td>\n",
       "      <td>8.1</td>\n",
       "      <td>64.470</td>\n",
       "      <td>9.0350</td>\n",
       "      <td>122.5706</td>\n",
       "      <td>101.2</td>\n",
       "      <td>1704.0</td>\n",
       "      <td>4.703204</td>\n",
       "      <td>242166.0</td>\n",
       "      <td>7106.570176</td>\n",
       "      <td>...</td>\n",
       "      <td>1084.0</td>\n",
       "      <td>4722.156</td>\n",
       "      <td>63.9</td>\n",
       "      <td>1726.0</td>\n",
       "      <td>5039.0</td>\n",
       "      <td>65.5</td>\n",
       "      <td>727.9</td>\n",
       "      <td>6.0</td>\n",
       "      <td>6.6</td>\n",
       "      <td>97900.0</td>\n",
       "    </tr>\n",
       "    <tr>\n",
       "      <th>3</th>\n",
       "      <td>1987-04-01</td>\n",
       "      <td>4.1</td>\n",
       "      <td>64.973</td>\n",
       "      <td>9.8325</td>\n",
       "      <td>123.5345</td>\n",
       "      <td>100.8</td>\n",
       "      <td>1601.0</td>\n",
       "      <td>4.703204</td>\n",
       "      <td>242338.0</td>\n",
       "      <td>7316.773819</td>\n",
       "      <td>...</td>\n",
       "      <td>1079.0</td>\n",
       "      <td>4806.160</td>\n",
       "      <td>63.9</td>\n",
       "      <td>1614.0</td>\n",
       "      <td>5053.0</td>\n",
       "      <td>65.4</td>\n",
       "      <td>728.1</td>\n",
       "      <td>6.0</td>\n",
       "      <td>6.3</td>\n",
       "      <td>103400.0</td>\n",
       "    </tr>\n",
       "    <tr>\n",
       "      <th>4</th>\n",
       "      <td>1987-05-01</td>\n",
       "      <td>7.8</td>\n",
       "      <td>65.547</td>\n",
       "      <td>10.5960</td>\n",
       "      <td>123.8454</td>\n",
       "      <td>101.2</td>\n",
       "      <td>1500.0</td>\n",
       "      <td>4.697749</td>\n",
       "      <td>242516.0</td>\n",
       "      <td>7203.844501</td>\n",
       "      <td>...</td>\n",
       "      <td>1070.0</td>\n",
       "      <td>4806.160</td>\n",
       "      <td>63.9</td>\n",
       "      <td>1628.0</td>\n",
       "      <td>5080.0</td>\n",
       "      <td>65.7</td>\n",
       "      <td>727.6</td>\n",
       "      <td>6.7</td>\n",
       "      <td>6.3</td>\n",
       "      <td>103400.0</td>\n",
       "    </tr>\n",
       "  </tbody>\n",
       "</table>\n",
       "<p>5 rows × 22 columns</p>\n",
       "</div>"
      ],
      "text/plain": [
       "         DATE  p_saving_rate  target  mortgage_rate  IPI_Cement  PPI_Cement  \\\n",
       "0  1987-01-01            9.4  63.735         9.2040    123.7373       100.1   \n",
       "1  1987-02-01            8.2  64.135         9.0825    123.1670       100.8   \n",
       "2  1987-03-01            8.1  64.470         9.0350    122.5706       101.2   \n",
       "3  1987-04-01            4.1  64.973         9.8325    123.5345       100.8   \n",
       "4  1987-05-01            7.8  65.547        10.5960    123.8454       101.2   \n",
       "\n",
       "   permit  PPI_Concrete  population  new_private_house  ...  \\\n",
       "0  1690.0      4.703204    241857.0        7974.739004  ...   \n",
       "1  1689.0      4.703204    242005.0        7502.244305  ...   \n",
       "2  1704.0      4.703204    242166.0        7106.570176  ...   \n",
       "3  1601.0      4.703204    242338.0        7316.773819  ...   \n",
       "4  1500.0      4.697749    242516.0        7203.844501  ...   \n",
       "\n",
       "   new_private_hw_under       GDP  home_ow_rate  house_st  total_emp_cons  \\\n",
       "0                1090.0  4722.156          63.9    1774.0          5007.0   \n",
       "1                1096.0  4722.156          63.9    1784.0          5038.0   \n",
       "2                1084.0  4722.156          63.9    1726.0          5039.0   \n",
       "3                1079.0  4806.160          63.9    1614.0          5053.0   \n",
       "4                1070.0  4806.160          63.9    1628.0          5080.0   \n",
       "\n",
       "   labor_percent  all_Const_Emp  monthly_supply  unemployed_rate     MSPUS  \n",
       "0           65.4          722.3             6.0              6.6   97900.0  \n",
       "1           65.5          724.2             6.2              6.6   97900.0  \n",
       "2           65.5          727.9             6.0              6.6   97900.0  \n",
       "3           65.4          728.1             6.0              6.3  103400.0  \n",
       "4           65.7          727.6             6.7              6.3  103400.0  \n",
       "\n",
       "[5 rows x 22 columns]"
      ]
     },
     "execution_count": 6,
     "metadata": {},
     "output_type": "execute_result"
    }
   ],
   "source": [
    "df.head()"
   ]
  },
  {
   "cell_type": "markdown",
   "metadata": {
    "id": "84CxrB_BqWl-"
   },
   "source": [
    "### Data splitting and Scaling"
   ]
  },
  {
   "cell_type": "code",
   "execution_count": 7,
   "metadata": {
    "id": "BCYlrLpbrE9h"
   },
   "outputs": [],
   "source": [
    "X = df.drop(columns=['DATE', 'target'], axis=1)\n",
    "y = df.target"
   ]
  },
  {
   "cell_type": "code",
   "execution_count": 8,
   "metadata": {
    "id": "0ykbolKcrbcy"
   },
   "outputs": [],
   "source": [
    "X_train, X_test, y_train, y_test = train_test_split(X, y, test_size=0.2, random_state=42)"
   ]
  },
  {
   "cell_type": "code",
   "execution_count": 9,
   "metadata": {
    "id": "gEXzm9ZArh5-"
   },
   "outputs": [],
   "source": [
    "from sklearn.preprocessing import StandardScaler\n",
    "\n",
    "scaler = StandardScaler()\n",
    "X_train = scaler.fit_transform(X_train)\n",
    "X_test = scaler.transform(X_test)"
   ]
  },
  {
   "cell_type": "markdown",
   "metadata": {
    "id": "W0OlHqowqgTp"
   },
   "source": [
    "### Model Training"
   ]
  },
  {
   "cell_type": "code",
   "execution_count": 10,
   "metadata": {
    "id": "D9aDBzN5qTLu"
   },
   "outputs": [
    {
     "name": "stderr",
     "output_type": "stream",
     "text": [
      "/Users/pritamk/dataScience/anaconda3/lib/python3.11/site-packages/sklearn/linear_model/_coordinate_descent.py:614: ConvergenceWarning: Objective did not converge. You might want to increase the number of iterations. Duality gap: 185.06929127610238, tolerance: 89.04443549183965\n",
      "  model = cd_fast.enet_coordinate_descent_gram(\n",
      "/Users/pritamk/dataScience/anaconda3/lib/python3.11/site-packages/sklearn/linear_model/_coordinate_descent.py:614: ConvergenceWarning: Objective did not converge. You might want to increase the number of iterations. Duality gap: 113.93178989817216, tolerance: 89.04443549183965\n",
      "  model = cd_fast.enet_coordinate_descent_gram(\n",
      "/Users/pritamk/dataScience/anaconda3/lib/python3.11/site-packages/sklearn/linear_model/_coordinate_descent.py:628: ConvergenceWarning: Objective did not converge. You might want to increase the number of iterations, check the scale of the features or consider increasing regularisation. Duality gap: 1.018e+03, tolerance: 1.218e+02\n",
      "  model = cd_fast.enet_coordinate_descent(\n"
     ]
    }
   ],
   "source": [
    "lasso_cv_model = LassoCV(alphas=np.logspace(-4, 4, 100),cv=5)\n",
    "\n",
    "lasso_cv_model.fit(X_train, y_train)\n",
    "\n",
    "lasso_cv_predictions = lasso_cv_model.predict(X_test)"
   ]
  },
  {
   "cell_type": "code",
   "execution_count": 11,
   "metadata": {
    "colab": {
     "base_uri": "https://localhost:8080/"
    },
    "id": "PBMfc42IsPK7",
    "outputId": "d02167f8-a225-49ef-8c08-8c7c260810fb"
   },
   "outputs": [
    {
     "name": "stdout",
     "output_type": "stream",
     "text": [
      "Optimal Alpha: 0.0126\n",
      "Mean Squared Error (MSE): 15.33\n",
      "RMSE: 3.914926\n",
      "R-squared (R2): 1.00\n"
     ]
    }
   ],
   "source": [
    "optimal_alpha = lasso_cv_model.alpha_\n",
    "\n",
    "mse = mean_squared_error(y_test, lasso_cv_predictions)\n",
    "\n",
    "rmse = np.sqrt(mse)\n",
    "\n",
    "r2 = r2_score(y_test, lasso_cv_predictions)\n",
    "\n",
    "print(f\"Optimal Alpha: {optimal_alpha:.4f}\")\n",
    "print(f\"Mean Squared Error (MSE): {mse:.2f}\")\n",
    "print(f\"RMSE: {rmse:2f}\")\n",
    "print(f\"R-squared (R2): {r2:.2f}\")"
   ]
  },
  {
   "cell_type": "markdown",
   "metadata": {
    "id": "l2aTkKx6qlT2"
   },
   "source": [
    "### Cross validation"
   ]
  },
  {
   "cell_type": "code",
   "execution_count": 12,
   "metadata": {
    "colab": {
     "base_uri": "https://localhost:8080/"
    },
    "id": "fDUZlPBkezFE",
    "outputId": "a02dad4d-2c94-4932-d01b-c6e39da9106f"
   },
   "outputs": [
    {
     "name": "stderr",
     "output_type": "stream",
     "text": [
      "/Users/pritamk/dataScience/anaconda3/lib/python3.11/site-packages/sklearn/linear_model/_coordinate_descent.py:614: ConvergenceWarning: Objective did not converge. You might want to increase the number of iterations. Duality gap: 129.69656366069376, tolerance: 74.21987913840002\n",
      "  model = cd_fast.enet_coordinate_descent_gram(\n",
      "/Users/pritamk/dataScience/anaconda3/lib/python3.11/site-packages/sklearn/linear_model/_coordinate_descent.py:614: ConvergenceWarning: Objective did not converge. You might want to increase the number of iterations. Duality gap: 98.88460155688881, tolerance: 74.21987913840002\n",
      "  model = cd_fast.enet_coordinate_descent_gram(\n",
      "/Users/pritamk/dataScience/anaconda3/lib/python3.11/site-packages/sklearn/linear_model/_coordinate_descent.py:614: ConvergenceWarning: Objective did not converge. You might want to increase the number of iterations. Duality gap: 82.5306306839866, tolerance: 74.21987913840002\n",
      "  model = cd_fast.enet_coordinate_descent_gram(\n",
      "/Users/pritamk/dataScience/anaconda3/lib/python3.11/site-packages/sklearn/linear_model/_coordinate_descent.py:614: ConvergenceWarning: Objective did not converge. You might want to increase the number of iterations. Duality gap: 74.22671653700036, tolerance: 74.21987913840002\n",
      "  model = cd_fast.enet_coordinate_descent_gram(\n",
      "/Users/pritamk/dataScience/anaconda3/lib/python3.11/site-packages/sklearn/linear_model/_coordinate_descent.py:614: ConvergenceWarning: Objective did not converge. You might want to increase the number of iterations. Duality gap: 148.91610870700242, tolerance: 70.93498029733571\n",
      "  model = cd_fast.enet_coordinate_descent_gram(\n",
      "/Users/pritamk/dataScience/anaconda3/lib/python3.11/site-packages/sklearn/linear_model/_coordinate_descent.py:614: ConvergenceWarning: Objective did not converge. You might want to increase the number of iterations. Duality gap: 98.73111606217844, tolerance: 70.93498029733571\n",
      "  model = cd_fast.enet_coordinate_descent_gram(\n",
      "/Users/pritamk/dataScience/anaconda3/lib/python3.11/site-packages/sklearn/linear_model/_coordinate_descent.py:614: ConvergenceWarning: Objective did not converge. You might want to increase the number of iterations. Duality gap: 72.53650692369683, tolerance: 70.93498029733571\n",
      "  model = cd_fast.enet_coordinate_descent_gram(\n",
      "/Users/pritamk/dataScience/anaconda3/lib/python3.11/site-packages/sklearn/linear_model/_coordinate_descent.py:614: ConvergenceWarning: Objective did not converge. You might want to increase the number of iterations. Duality gap: 95.33295398422888, tolerance: 74.90444160497098\n",
      "  model = cd_fast.enet_coordinate_descent_gram(\n",
      "/Users/pritamk/dataScience/anaconda3/lib/python3.11/site-packages/sklearn/linear_model/_coordinate_descent.py:614: ConvergenceWarning: Objective did not converge. You might want to increase the number of iterations. Duality gap: 88.97572060586117, tolerance: 74.90444160497098\n",
      "  model = cd_fast.enet_coordinate_descent_gram(\n",
      "/Users/pritamk/dataScience/anaconda3/lib/python3.11/site-packages/sklearn/linear_model/_coordinate_descent.py:614: ConvergenceWarning: Objective did not converge. You might want to increase the number of iterations. Duality gap: 165.3328934749029, tolerance: 74.90444160497098\n",
      "  model = cd_fast.enet_coordinate_descent_gram(\n",
      "/Users/pritamk/dataScience/anaconda3/lib/python3.11/site-packages/sklearn/linear_model/_coordinate_descent.py:614: ConvergenceWarning: Objective did not converge. You might want to increase the number of iterations. Duality gap: 82.67554717763323, tolerance: 74.90444160497098\n",
      "  model = cd_fast.enet_coordinate_descent_gram(\n",
      "/Users/pritamk/dataScience/anaconda3/lib/python3.11/site-packages/sklearn/linear_model/_coordinate_descent.py:614: ConvergenceWarning: Objective did not converge. You might want to increase the number of iterations. Duality gap: 102.5018741781114, tolerance: 74.90444160497098\n",
      "  model = cd_fast.enet_coordinate_descent_gram(\n",
      "/Users/pritamk/dataScience/anaconda3/lib/python3.11/site-packages/sklearn/linear_model/_coordinate_descent.py:614: ConvergenceWarning: Objective did not converge. You might want to increase the number of iterations. Duality gap: 99.95137028660793, tolerance: 74.90444160497098\n",
      "  model = cd_fast.enet_coordinate_descent_gram(\n",
      "/Users/pritamk/dataScience/anaconda3/lib/python3.11/site-packages/sklearn/linear_model/_coordinate_descent.py:614: ConvergenceWarning: Objective did not converge. You might want to increase the number of iterations. Duality gap: 94.43437388759139, tolerance: 74.90444160497098\n",
      "  model = cd_fast.enet_coordinate_descent_gram(\n",
      "/Users/pritamk/dataScience/anaconda3/lib/python3.11/site-packages/sklearn/linear_model/_coordinate_descent.py:614: ConvergenceWarning: Objective did not converge. You might want to increase the number of iterations. Duality gap: 91.74011588718622, tolerance: 74.90444160497098\n",
      "  model = cd_fast.enet_coordinate_descent_gram(\n",
      "/Users/pritamk/dataScience/anaconda3/lib/python3.11/site-packages/sklearn/linear_model/_coordinate_descent.py:614: ConvergenceWarning: Objective did not converge. You might want to increase the number of iterations. Duality gap: 91.14073437409024, tolerance: 74.90444160497098\n",
      "  model = cd_fast.enet_coordinate_descent_gram(\n",
      "/Users/pritamk/dataScience/anaconda3/lib/python3.11/site-packages/sklearn/linear_model/_coordinate_descent.py:614: ConvergenceWarning: Objective did not converge. You might want to increase the number of iterations. Duality gap: 91.16045575836324, tolerance: 74.90444160497098\n",
      "  model = cd_fast.enet_coordinate_descent_gram(\n",
      "/Users/pritamk/dataScience/anaconda3/lib/python3.11/site-packages/sklearn/linear_model/_coordinate_descent.py:614: ConvergenceWarning: Objective did not converge. You might want to increase the number of iterations. Duality gap: 91.14317842163837, tolerance: 74.90444160497098\n",
      "  model = cd_fast.enet_coordinate_descent_gram(\n",
      "/Users/pritamk/dataScience/anaconda3/lib/python3.11/site-packages/sklearn/linear_model/_coordinate_descent.py:614: ConvergenceWarning: Objective did not converge. You might want to increase the number of iterations. Duality gap: 91.01355799475505, tolerance: 74.90444160497098\n",
      "  model = cd_fast.enet_coordinate_descent_gram(\n",
      "/Users/pritamk/dataScience/anaconda3/lib/python3.11/site-packages/sklearn/linear_model/_coordinate_descent.py:614: ConvergenceWarning: Objective did not converge. You might want to increase the number of iterations. Duality gap: 123.47281530134069, tolerance: 70.60082446219822\n",
      "  model = cd_fast.enet_coordinate_descent_gram(\n",
      "/Users/pritamk/dataScience/anaconda3/lib/python3.11/site-packages/sklearn/linear_model/_coordinate_descent.py:614: ConvergenceWarning: Objective did not converge. You might want to increase the number of iterations. Duality gap: 200.41160736410848, tolerance: 70.60082446219822\n",
      "  model = cd_fast.enet_coordinate_descent_gram(\n",
      "/Users/pritamk/dataScience/anaconda3/lib/python3.11/site-packages/sklearn/linear_model/_coordinate_descent.py:614: ConvergenceWarning: Objective did not converge. You might want to increase the number of iterations. Duality gap: 177.40262931751295, tolerance: 70.60082446219822\n",
      "  model = cd_fast.enet_coordinate_descent_gram(\n",
      "/Users/pritamk/dataScience/anaconda3/lib/python3.11/site-packages/sklearn/linear_model/_coordinate_descent.py:614: ConvergenceWarning: Objective did not converge. You might want to increase the number of iterations. Duality gap: 106.04933383651951, tolerance: 70.60082446219822\n",
      "  model = cd_fast.enet_coordinate_descent_gram(\n",
      "/Users/pritamk/dataScience/anaconda3/lib/python3.11/site-packages/sklearn/linear_model/_coordinate_descent.py:614: ConvergenceWarning: Objective did not converge. You might want to increase the number of iterations. Duality gap: 108.94077402592802, tolerance: 70.60082446219822\n",
      "  model = cd_fast.enet_coordinate_descent_gram(\n",
      "/Users/pritamk/dataScience/anaconda3/lib/python3.11/site-packages/sklearn/linear_model/_coordinate_descent.py:614: ConvergenceWarning: Objective did not converge. You might want to increase the number of iterations. Duality gap: 124.47746760499422, tolerance: 70.60082446219822\n",
      "  model = cd_fast.enet_coordinate_descent_gram(\n",
      "/Users/pritamk/dataScience/anaconda3/lib/python3.11/site-packages/sklearn/linear_model/_coordinate_descent.py:614: ConvergenceWarning: Objective did not converge. You might want to increase the number of iterations. Duality gap: 128.96174543827874, tolerance: 70.60082446219822\n",
      "  model = cd_fast.enet_coordinate_descent_gram(\n",
      "/Users/pritamk/dataScience/anaconda3/lib/python3.11/site-packages/sklearn/linear_model/_coordinate_descent.py:614: ConvergenceWarning: Objective did not converge. You might want to increase the number of iterations. Duality gap: 115.84190565343897, tolerance: 70.60082446219822\n",
      "  model = cd_fast.enet_coordinate_descent_gram(\n",
      "/Users/pritamk/dataScience/anaconda3/lib/python3.11/site-packages/sklearn/linear_model/_coordinate_descent.py:614: ConvergenceWarning: Objective did not converge. You might want to increase the number of iterations. Duality gap: 103.82486186068672, tolerance: 70.60082446219822\n",
      "  model = cd_fast.enet_coordinate_descent_gram(\n",
      "/Users/pritamk/dataScience/anaconda3/lib/python3.11/site-packages/sklearn/linear_model/_coordinate_descent.py:614: ConvergenceWarning: Objective did not converge. You might want to increase the number of iterations. Duality gap: 96.8344023181844, tolerance: 70.60082446219822\n",
      "  model = cd_fast.enet_coordinate_descent_gram(\n",
      "/Users/pritamk/dataScience/anaconda3/lib/python3.11/site-packages/sklearn/linear_model/_coordinate_descent.py:614: ConvergenceWarning: Objective did not converge. You might want to increase the number of iterations. Duality gap: 93.4062887933369, tolerance: 70.60082446219822\n",
      "  model = cd_fast.enet_coordinate_descent_gram(\n",
      "/Users/pritamk/dataScience/anaconda3/lib/python3.11/site-packages/sklearn/linear_model/_coordinate_descent.py:614: ConvergenceWarning: Objective did not converge. You might want to increase the number of iterations. Duality gap: 91.84182829872861, tolerance: 70.60082446219822\n",
      "  model = cd_fast.enet_coordinate_descent_gram(\n",
      "/Users/pritamk/dataScience/anaconda3/lib/python3.11/site-packages/sklearn/linear_model/_coordinate_descent.py:614: ConvergenceWarning: Objective did not converge. You might want to increase the number of iterations. Duality gap: 91.08394770566338, tolerance: 70.60082446219822\n",
      "  model = cd_fast.enet_coordinate_descent_gram(\n",
      "/Users/pritamk/dataScience/anaconda3/lib/python3.11/site-packages/sklearn/linear_model/_coordinate_descent.py:614: ConvergenceWarning: Objective did not converge. You might want to increase the number of iterations. Duality gap: 90.62521596055649, tolerance: 70.60082446219822\n",
      "  model = cd_fast.enet_coordinate_descent_gram(\n",
      "/Users/pritamk/dataScience/anaconda3/lib/python3.11/site-packages/sklearn/linear_model/_coordinate_descent.py:614: ConvergenceWarning: Objective did not converge. You might want to increase the number of iterations. Duality gap: 90.26936609891163, tolerance: 70.60082446219822\n",
      "  model = cd_fast.enet_coordinate_descent_gram(\n",
      "/Users/pritamk/dataScience/anaconda3/lib/python3.11/site-packages/sklearn/linear_model/_coordinate_descent.py:614: ConvergenceWarning: Objective did not converge. You might want to increase the number of iterations. Duality gap: 89.9584680050857, tolerance: 70.60082446219822\n",
      "  model = cd_fast.enet_coordinate_descent_gram(\n",
      "/Users/pritamk/dataScience/anaconda3/lib/python3.11/site-packages/sklearn/linear_model/_coordinate_descent.py:614: ConvergenceWarning: Objective did not converge. You might want to increase the number of iterations. Duality gap: 89.68252263683462, tolerance: 70.60082446219822\n",
      "  model = cd_fast.enet_coordinate_descent_gram(\n",
      "/Users/pritamk/dataScience/anaconda3/lib/python3.11/site-packages/sklearn/linear_model/_coordinate_descent.py:614: ConvergenceWarning: Objective did not converge. You might want to increase the number of iterations. Duality gap: 89.44210224350536, tolerance: 70.60082446219822\n",
      "  model = cd_fast.enet_coordinate_descent_gram(\n",
      "/Users/pritamk/dataScience/anaconda3/lib/python3.11/site-packages/sklearn/linear_model/_coordinate_descent.py:614: ConvergenceWarning: Objective did not converge. You might want to increase the number of iterations. Duality gap: 89.23699210894756, tolerance: 70.60082446219822\n",
      "  model = cd_fast.enet_coordinate_descent_gram(\n",
      "/Users/pritamk/dataScience/anaconda3/lib/python3.11/site-packages/sklearn/linear_model/_coordinate_descent.py:614: ConvergenceWarning: Objective did not converge. You might want to increase the number of iterations. Duality gap: 89.06452969501242, tolerance: 70.60082446219822\n",
      "  model = cd_fast.enet_coordinate_descent_gram(\n",
      "/Users/pritamk/dataScience/anaconda3/lib/python3.11/site-packages/sklearn/linear_model/_coordinate_descent.py:614: ConvergenceWarning: Objective did not converge. You might want to increase the number of iterations. Duality gap: 132.8653217440069, tolerance: 65.29806199624957\n",
      "  model = cd_fast.enet_coordinate_descent_gram(\n",
      "/Users/pritamk/dataScience/anaconda3/lib/python3.11/site-packages/sklearn/linear_model/_coordinate_descent.py:614: ConvergenceWarning: Objective did not converge. You might want to increase the number of iterations. Duality gap: 68.35935692591875, tolerance: 65.29806199624957\n",
      "  model = cd_fast.enet_coordinate_descent_gram(\n"
     ]
    },
    {
     "name": "stderr",
     "output_type": "stream",
     "text": [
      "/Users/pritamk/dataScience/anaconda3/lib/python3.11/site-packages/sklearn/linear_model/_coordinate_descent.py:628: ConvergenceWarning: Objective did not converge. You might want to increase the number of iterations, check the scale of the features or consider increasing regularisation. Duality gap: 1.828e+03, tolerance: 8.904e+01\n",
      "  model = cd_fast.enet_coordinate_descent(\n",
      "/Users/pritamk/dataScience/anaconda3/lib/python3.11/site-packages/sklearn/linear_model/_coordinate_descent.py:614: ConvergenceWarning: Objective did not converge. You might want to increase the number of iterations. Duality gap: 151.771359620343, tolerance: 73.96557032254285\n",
      "  model = cd_fast.enet_coordinate_descent_gram(\n",
      "/Users/pritamk/dataScience/anaconda3/lib/python3.11/site-packages/sklearn/linear_model/_coordinate_descent.py:614: ConvergenceWarning: Objective did not converge. You might want to increase the number of iterations. Duality gap: 90.08529111573625, tolerance: 73.96557032254285\n",
      "  model = cd_fast.enet_coordinate_descent_gram(\n",
      "/Users/pritamk/dataScience/anaconda3/lib/python3.11/site-packages/sklearn/linear_model/_coordinate_descent.py:614: ConvergenceWarning: Objective did not converge. You might want to increase the number of iterations. Duality gap: 82.82658839557598, tolerance: 82.34790777321156\n",
      "  model = cd_fast.enet_coordinate_descent_gram(\n",
      "/Users/pritamk/dataScience/anaconda3/lib/python3.11/site-packages/sklearn/linear_model/_coordinate_descent.py:614: ConvergenceWarning: Objective did not converge. You might want to increase the number of iterations. Duality gap: 86.81231020080077, tolerance: 82.34790777321156\n",
      "  model = cd_fast.enet_coordinate_descent_gram(\n",
      "/Users/pritamk/dataScience/anaconda3/lib/python3.11/site-packages/sklearn/linear_model/_coordinate_descent.py:614: ConvergenceWarning: Objective did not converge. You might want to increase the number of iterations. Duality gap: 129.744211778529, tolerance: 76.33911983960002\n",
      "  model = cd_fast.enet_coordinate_descent_gram(\n",
      "/Users/pritamk/dataScience/anaconda3/lib/python3.11/site-packages/sklearn/linear_model/_coordinate_descent.py:614: ConvergenceWarning: Objective did not converge. You might want to increase the number of iterations. Duality gap: 81.25158881831612, tolerance: 76.33911983960002\n",
      "  model = cd_fast.enet_coordinate_descent_gram(\n",
      "/Users/pritamk/dataScience/anaconda3/lib/python3.11/site-packages/sklearn/linear_model/_coordinate_descent.py:628: ConvergenceWarning: Objective did not converge. You might want to increase the number of iterations, check the scale of the features or consider increasing regularisation. Duality gap: 1.114e+03, tolerance: 9.999e+01\n",
      "  model = cd_fast.enet_coordinate_descent(\n",
      "/Users/pritamk/dataScience/anaconda3/lib/python3.11/site-packages/sklearn/linear_model/_coordinate_descent.py:614: ConvergenceWarning: Objective did not converge. You might want to increase the number of iterations. Duality gap: 141.94705889639772, tolerance: 76.87322059929599\n",
      "  model = cd_fast.enet_coordinate_descent_gram(\n",
      "/Users/pritamk/dataScience/anaconda3/lib/python3.11/site-packages/sklearn/linear_model/_coordinate_descent.py:614: ConvergenceWarning: Objective did not converge. You might want to increase the number of iterations. Duality gap: 114.15214891589858, tolerance: 76.87322059929599\n",
      "  model = cd_fast.enet_coordinate_descent_gram(\n",
      "/Users/pritamk/dataScience/anaconda3/lib/python3.11/site-packages/sklearn/linear_model/_coordinate_descent.py:614: ConvergenceWarning: Objective did not converge. You might want to increase the number of iterations. Duality gap: 84.12982397348605, tolerance: 76.87322059929599\n",
      "  model = cd_fast.enet_coordinate_descent_gram(\n",
      "/Users/pritamk/dataScience/anaconda3/lib/python3.11/site-packages/sklearn/linear_model/_coordinate_descent.py:614: ConvergenceWarning: Objective did not converge. You might want to increase the number of iterations. Duality gap: 91.18673323904932, tolerance: 84.46199041709956\n",
      "  model = cd_fast.enet_coordinate_descent_gram(\n",
      "/Users/pritamk/dataScience/anaconda3/lib/python3.11/site-packages/sklearn/linear_model/_coordinate_descent.py:614: ConvergenceWarning: Objective did not converge. You might want to increase the number of iterations. Duality gap: 107.19776626708062, tolerance: 84.46199041709956\n",
      "  model = cd_fast.enet_coordinate_descent_gram(\n",
      "/Users/pritamk/dataScience/anaconda3/lib/python3.11/site-packages/sklearn/linear_model/_coordinate_descent.py:614: ConvergenceWarning: Objective did not converge. You might want to increase the number of iterations. Duality gap: 97.94820083971763, tolerance: 84.46199041709956\n",
      "  model = cd_fast.enet_coordinate_descent_gram(\n",
      "/Users/pritamk/dataScience/anaconda3/lib/python3.11/site-packages/sklearn/linear_model/_coordinate_descent.py:614: ConvergenceWarning: Objective did not converge. You might want to increase the number of iterations. Duality gap: 84.6920082516358, tolerance: 84.46199041709956\n",
      "  model = cd_fast.enet_coordinate_descent_gram(\n",
      "/Users/pritamk/dataScience/anaconda3/lib/python3.11/site-packages/sklearn/linear_model/_coordinate_descent.py:628: ConvergenceWarning: Objective did not converge. You might want to increase the number of iterations, check the scale of the features or consider increasing regularisation. Duality gap: 5.527e+02, tolerance: 1.029e+02\n",
      "  model = cd_fast.enet_coordinate_descent(\n",
      "/Users/pritamk/dataScience/anaconda3/lib/python3.11/site-packages/sklearn/linear_model/_coordinate_descent.py:614: ConvergenceWarning: Objective did not converge. You might want to increase the number of iterations. Duality gap: 198.16250131039078, tolerance: 77.03687889928572\n",
      "  model = cd_fast.enet_coordinate_descent_gram(\n",
      "/Users/pritamk/dataScience/anaconda3/lib/python3.11/site-packages/sklearn/linear_model/_coordinate_descent.py:614: ConvergenceWarning: Objective did not converge. You might want to increase the number of iterations. Duality gap: 297.9130595844995, tolerance: 77.03687889928572\n",
      "  model = cd_fast.enet_coordinate_descent_gram(\n",
      "/Users/pritamk/dataScience/anaconda3/lib/python3.11/site-packages/sklearn/linear_model/_coordinate_descent.py:614: ConvergenceWarning: Objective did not converge. You might want to increase the number of iterations. Duality gap: 260.1317538695848, tolerance: 77.03687889928572\n",
      "  model = cd_fast.enet_coordinate_descent_gram(\n",
      "/Users/pritamk/dataScience/anaconda3/lib/python3.11/site-packages/sklearn/linear_model/_coordinate_descent.py:614: ConvergenceWarning: Objective did not converge. You might want to increase the number of iterations. Duality gap: 155.56963970368997, tolerance: 77.03687889928572\n",
      "  model = cd_fast.enet_coordinate_descent_gram(\n",
      "/Users/pritamk/dataScience/anaconda3/lib/python3.11/site-packages/sklearn/linear_model/_coordinate_descent.py:614: ConvergenceWarning: Objective did not converge. You might want to increase the number of iterations. Duality gap: 100.40105195902242, tolerance: 77.03687889928572\n",
      "  model = cd_fast.enet_coordinate_descent_gram(\n",
      "/Users/pritamk/dataScience/anaconda3/lib/python3.11/site-packages/sklearn/linear_model/_coordinate_descent.py:614: ConvergenceWarning: Objective did not converge. You might want to increase the number of iterations. Duality gap: 106.92852405188387, tolerance: 77.03687889928572\n",
      "  model = cd_fast.enet_coordinate_descent_gram(\n",
      "/Users/pritamk/dataScience/anaconda3/lib/python3.11/site-packages/sklearn/linear_model/_coordinate_descent.py:614: ConvergenceWarning: Objective did not converge. You might want to increase the number of iterations. Duality gap: 106.01612694609776, tolerance: 77.03687889928572\n",
      "  model = cd_fast.enet_coordinate_descent_gram(\n",
      "/Users/pritamk/dataScience/anaconda3/lib/python3.11/site-packages/sklearn/linear_model/_coordinate_descent.py:614: ConvergenceWarning: Objective did not converge. You might want to increase the number of iterations. Duality gap: 102.83863168671405, tolerance: 77.03687889928572\n",
      "  model = cd_fast.enet_coordinate_descent_gram(\n",
      "/Users/pritamk/dataScience/anaconda3/lib/python3.11/site-packages/sklearn/linear_model/_coordinate_descent.py:614: ConvergenceWarning: Objective did not converge. You might want to increase the number of iterations. Duality gap: 99.64673248890222, tolerance: 77.03687889928572\n",
      "  model = cd_fast.enet_coordinate_descent_gram(\n",
      "/Users/pritamk/dataScience/anaconda3/lib/python3.11/site-packages/sklearn/linear_model/_coordinate_descent.py:614: ConvergenceWarning: Objective did not converge. You might want to increase the number of iterations. Duality gap: 97.14165108429324, tolerance: 77.03687889928572\n",
      "  model = cd_fast.enet_coordinate_descent_gram(\n",
      "/Users/pritamk/dataScience/anaconda3/lib/python3.11/site-packages/sklearn/linear_model/_coordinate_descent.py:614: ConvergenceWarning: Objective did not converge. You might want to increase the number of iterations. Duality gap: 95.35949778835356, tolerance: 77.03687889928572\n",
      "  model = cd_fast.enet_coordinate_descent_gram(\n",
      "/Users/pritamk/dataScience/anaconda3/lib/python3.11/site-packages/sklearn/linear_model/_coordinate_descent.py:614: ConvergenceWarning: Objective did not converge. You might want to increase the number of iterations. Duality gap: 94.12889417003726, tolerance: 77.03687889928572\n",
      "  model = cd_fast.enet_coordinate_descent_gram(\n",
      "/Users/pritamk/dataScience/anaconda3/lib/python3.11/site-packages/sklearn/linear_model/_coordinate_descent.py:614: ConvergenceWarning: Objective did not converge. You might want to increase the number of iterations. Duality gap: 103.11400248637256, tolerance: 77.03687889928572\n",
      "  model = cd_fast.enet_coordinate_descent_gram(\n",
      "/Users/pritamk/dataScience/anaconda3/lib/python3.11/site-packages/sklearn/linear_model/_coordinate_descent.py:614: ConvergenceWarning: Objective did not converge. You might want to increase the number of iterations. Duality gap: 111.3600654914676, tolerance: 77.03687889928572\n",
      "  model = cd_fast.enet_coordinate_descent_gram(\n",
      "/Users/pritamk/dataScience/anaconda3/lib/python3.11/site-packages/sklearn/linear_model/_coordinate_descent.py:614: ConvergenceWarning: Objective did not converge. You might want to increase the number of iterations. Duality gap: 116.13688829020703, tolerance: 77.03687889928572\n",
      "  model = cd_fast.enet_coordinate_descent_gram(\n",
      "/Users/pritamk/dataScience/anaconda3/lib/python3.11/site-packages/sklearn/linear_model/_coordinate_descent.py:614: ConvergenceWarning: Objective did not converge. You might want to increase the number of iterations. Duality gap: 109.26049924325571, tolerance: 77.03687889928572\n",
      "  model = cd_fast.enet_coordinate_descent_gram(\n",
      "/Users/pritamk/dataScience/anaconda3/lib/python3.11/site-packages/sklearn/linear_model/_coordinate_descent.py:614: ConvergenceWarning: Objective did not converge. You might want to increase the number of iterations. Duality gap: 94.95953904406497, tolerance: 77.03687889928572\n",
      "  model = cd_fast.enet_coordinate_descent_gram(\n",
      "/Users/pritamk/dataScience/anaconda3/lib/python3.11/site-packages/sklearn/linear_model/_coordinate_descent.py:614: ConvergenceWarning: Objective did not converge. You might want to increase the number of iterations. Duality gap: 83.86204858842257, tolerance: 77.03687889928572\n",
      "  model = cd_fast.enet_coordinate_descent_gram(\n",
      "/Users/pritamk/dataScience/anaconda3/lib/python3.11/site-packages/sklearn/linear_model/_coordinate_descent.py:614: ConvergenceWarning: Objective did not converge. You might want to increase the number of iterations. Duality gap: 77.1152026853747, tolerance: 77.03687889928572\n",
      "  model = cd_fast.enet_coordinate_descent_gram(\n",
      "/Users/pritamk/dataScience/anaconda3/lib/python3.11/site-packages/sklearn/linear_model/_coordinate_descent.py:614: ConvergenceWarning: Objective did not converge. You might want to increase the number of iterations. Duality gap: 91.0248667718156, tolerance: 82.78504995437602\n",
      "  model = cd_fast.enet_coordinate_descent_gram(\n",
      "/Users/pritamk/dataScience/anaconda3/lib/python3.11/site-packages/sklearn/linear_model/_coordinate_descent.py:614: ConvergenceWarning: Objective did not converge. You might want to increase the number of iterations. Duality gap: 87.8270031102611, tolerance: 82.78504995437602\n",
      "  model = cd_fast.enet_coordinate_descent_gram(\n",
      "/Users/pritamk/dataScience/anaconda3/lib/python3.11/site-packages/sklearn/linear_model/_coordinate_descent.py:614: ConvergenceWarning: Objective did not converge. You might want to increase the number of iterations. Duality gap: 88.99687526432172, tolerance: 82.78504995437602\n",
      "  model = cd_fast.enet_coordinate_descent_gram(\n",
      "/Users/pritamk/dataScience/anaconda3/lib/python3.11/site-packages/sklearn/linear_model/_coordinate_descent.py:614: ConvergenceWarning: Objective did not converge. You might want to increase the number of iterations. Duality gap: 86.44460338546969, tolerance: 82.78504995437602\n",
      "  model = cd_fast.enet_coordinate_descent_gram(\n",
      "/Users/pritamk/dataScience/anaconda3/lib/python3.11/site-packages/sklearn/linear_model/_coordinate_descent.py:614: ConvergenceWarning: Objective did not converge. You might want to increase the number of iterations. Duality gap: 83.13167631648821, tolerance: 82.78504995437602\n",
      "  model = cd_fast.enet_coordinate_descent_gram(\n",
      "/Users/pritamk/dataScience/anaconda3/lib/python3.11/site-packages/sklearn/linear_model/_coordinate_descent.py:614: ConvergenceWarning: Objective did not converge. You might want to increase the number of iterations. Duality gap: 84.50796258739229, tolerance: 82.78504995437602\n",
      "  model = cd_fast.enet_coordinate_descent_gram(\n",
      "/Users/pritamk/dataScience/anaconda3/lib/python3.11/site-packages/sklearn/linear_model/_coordinate_descent.py:614: ConvergenceWarning: Objective did not converge. You might want to increase the number of iterations. Duality gap: 126.97453332531632, tolerance: 82.78504995437602\n",
      "  model = cd_fast.enet_coordinate_descent_gram(\n",
      "/Users/pritamk/dataScience/anaconda3/lib/python3.11/site-packages/sklearn/linear_model/_coordinate_descent.py:614: ConvergenceWarning: Objective did not converge. You might want to increase the number of iterations. Duality gap: 143.46565215043483, tolerance: 82.78504995437602\n",
      "  model = cd_fast.enet_coordinate_descent_gram(\n",
      "/Users/pritamk/dataScience/anaconda3/lib/python3.11/site-packages/sklearn/linear_model/_coordinate_descent.py:614: ConvergenceWarning: Objective did not converge. You might want to increase the number of iterations. Duality gap: 143.68242582204175, tolerance: 82.78504995437602\n",
      "  model = cd_fast.enet_coordinate_descent_gram(\n",
      "/Users/pritamk/dataScience/anaconda3/lib/python3.11/site-packages/sklearn/linear_model/_coordinate_descent.py:614: ConvergenceWarning: Objective did not converge. You might want to increase the number of iterations. Duality gap: 139.6064050519244, tolerance: 82.78504995437602\n",
      "  model = cd_fast.enet_coordinate_descent_gram(\n",
      "/Users/pritamk/dataScience/anaconda3/lib/python3.11/site-packages/sklearn/linear_model/_coordinate_descent.py:614: ConvergenceWarning: Objective did not converge. You might want to increase the number of iterations. Duality gap: 136.3118139814369, tolerance: 82.78504995437602\n",
      "  model = cd_fast.enet_coordinate_descent_gram(\n",
      "/Users/pritamk/dataScience/anaconda3/lib/python3.11/site-packages/sklearn/linear_model/_coordinate_descent.py:614: ConvergenceWarning: Objective did not converge. You might want to increase the number of iterations. Duality gap: 134.66939276920175, tolerance: 82.78504995437602\n",
      "  model = cd_fast.enet_coordinate_descent_gram(\n",
      "/Users/pritamk/dataScience/anaconda3/lib/python3.11/site-packages/sklearn/linear_model/_coordinate_descent.py:614: ConvergenceWarning: Objective did not converge. You might want to increase the number of iterations. Duality gap: 134.0987032796179, tolerance: 82.78504995437602\n",
      "  model = cd_fast.enet_coordinate_descent_gram(\n",
      "/Users/pritamk/dataScience/anaconda3/lib/python3.11/site-packages/sklearn/linear_model/_coordinate_descent.py:614: ConvergenceWarning: Objective did not converge. You might want to increase the number of iterations. Duality gap: 133.95166850970145, tolerance: 82.78504995437602\n",
      "  model = cd_fast.enet_coordinate_descent_gram(\n",
      "/Users/pritamk/dataScience/anaconda3/lib/python3.11/site-packages/sklearn/linear_model/_coordinate_descent.py:614: ConvergenceWarning: Objective did not converge. You might want to increase the number of iterations. Duality gap: 133.88069662438738, tolerance: 82.78504995437602\n",
      "  model = cd_fast.enet_coordinate_descent_gram(\n",
      "/Users/pritamk/dataScience/anaconda3/lib/python3.11/site-packages/sklearn/linear_model/_coordinate_descent.py:614: ConvergenceWarning: Objective did not converge. You might want to increase the number of iterations. Duality gap: 133.78030362998652, tolerance: 82.78504995437602\n",
      "  model = cd_fast.enet_coordinate_descent_gram(\n"
     ]
    },
    {
     "name": "stdout",
     "output_type": "stream",
     "text": [
      "Cross-Validation R-squared Scores:\n",
      "[0.99504332 0.99512056 0.99388628 0.99191416 0.99445333]\n"
     ]
    },
    {
     "name": "stderr",
     "output_type": "stream",
     "text": [
      "/Users/pritamk/dataScience/anaconda3/lib/python3.11/site-packages/sklearn/linear_model/_coordinate_descent.py:628: ConvergenceWarning: Objective did not converge. You might want to increase the number of iterations, check the scale of the features or consider increasing regularisation. Duality gap: 1.200e+03, tolerance: 1.032e+02\n",
      "  model = cd_fast.enet_coordinate_descent(\n",
      "/Users/pritamk/dataScience/anaconda3/lib/python3.11/site-packages/sklearn/linear_model/_coordinate_descent.py:614: ConvergenceWarning: Objective did not converge. You might want to increase the number of iterations. Duality gap: 116.67684280872982, tolerance: 65.82032625745536\n",
      "  model = cd_fast.enet_coordinate_descent_gram(\n",
      "/Users/pritamk/dataScience/anaconda3/lib/python3.11/site-packages/sklearn/linear_model/_coordinate_descent.py:614: ConvergenceWarning: Objective did not converge. You might want to increase the number of iterations. Duality gap: 145.72521282780554, tolerance: 74.52942097397599\n",
      "  model = cd_fast.enet_coordinate_descent_gram(\n",
      "/Users/pritamk/dataScience/anaconda3/lib/python3.11/site-packages/sklearn/linear_model/_coordinate_descent.py:614: ConvergenceWarning: Objective did not converge. You might want to increase the number of iterations. Duality gap: 123.11077259958165, tolerance: 76.08925573677156\n",
      "  model = cd_fast.enet_coordinate_descent_gram(\n",
      "/Users/pritamk/dataScience/anaconda3/lib/python3.11/site-packages/sklearn/linear_model/_coordinate_descent.py:614: ConvergenceWarning: Objective did not converge. You might want to increase the number of iterations. Duality gap: 81.67152947183422, tolerance: 76.08925573677156\n",
      "  model = cd_fast.enet_coordinate_descent_gram(\n",
      "/Users/pritamk/dataScience/anaconda3/lib/python3.11/site-packages/sklearn/linear_model/_coordinate_descent.py:628: ConvergenceWarning: Objective did not converge. You might want to increase the number of iterations, check the scale of the features or consider increasing regularisation. Duality gap: 6.484e+02, tolerance: 9.191e+01\n",
      "  model = cd_fast.enet_coordinate_descent(\n"
     ]
    }
   ],
   "source": [
    "cross_val_scores = cross_val_score(lasso_cv_model, X_train, y_train, cv=5, scoring='r2')\n",
    "print(\"Cross-Validation R-squared Scores:\")\n",
    "print(cross_val_scores)"
   ]
  },
  {
   "cell_type": "code",
   "execution_count": 13,
   "metadata": {
    "colab": {
     "base_uri": "https://localhost:8080/"
    },
    "id": "0v8Q-cg2giUh",
    "outputId": "517b9313-bab0-46a5-d9a7-7b7719d82a17"
   },
   "outputs": [
    {
     "name": "stdout",
     "output_type": "stream",
     "text": [
      "Mean R-squared: 0.9941\n",
      "Standard Deviation of R-squared: 0.0012\n"
     ]
    }
   ],
   "source": [
    "mean_r2 = cross_val_scores.mean()\n",
    "std_r2 = cross_val_scores.std()\n",
    "\n",
    "print(f\"Mean R-squared: {mean_r2:.4f}\")\n",
    "print(f\"Standard Deviation of R-squared: {std_r2:.4f}\")"
   ]
  },
  {
   "cell_type": "code",
   "execution_count": 14,
   "metadata": {
    "colab": {
     "base_uri": "https://localhost:8080/"
    },
    "id": "DfpG3pGRwjxX",
    "outputId": "a82738d5-2f47-45c2-83f9-189c217b6ad5"
   },
   "outputs": [
    {
     "name": "stdout",
     "output_type": "stream",
     "text": [
      "0.39149256705152913\n",
      "14.11514874715262\n"
     ]
    }
   ],
   "source": [
    "print(0.1 * rmse)\n",
    "print(0.1 * df['target'].mean()) # rmse should be less than the 10% of mean of target variable"
   ]
  },
  {
   "cell_type": "markdown",
   "metadata": {
    "id": "Kwag6Gekqp-e"
   },
   "source": [
    "### Most Prominent features and least prominent features"
   ]
  },
  {
   "cell_type": "code",
   "execution_count": 15,
   "metadata": {
    "id": "ewMj2d7osUjj"
   },
   "outputs": [],
   "source": [
    "# coefficients and corresponding feature names\n",
    "lasso_coefficients = lasso_cv_model.coef_\n",
    "feature_names = X.columns\n",
    "\n",
    "coefficients_df = pd.DataFrame({'Feature': feature_names, 'Coefficient': lasso_coefficients})\n",
    "\n",
    "non_zero_coefficients_df = coefficients_df[coefficients_df['Coefficient'] != 0]\n",
    "zero_coefficients_df = coefficients_df[coefficients_df['Coefficient'] == 0]"
   ]
  },
  {
   "cell_type": "code",
   "execution_count": 16,
   "metadata": {
    "colab": {
     "base_uri": "https://localhost:8080/",
     "height": 425
    },
    "id": "--SwhyjqtPjp",
    "outputId": "ae2dd6a0-da5a-424a-d005-920a30520baf"
   },
   "outputs": [
    {
     "data": {
      "text/html": [
       "<div>\n",
       "<style scoped>\n",
       "    .dataframe tbody tr th:only-of-type {\n",
       "        vertical-align: middle;\n",
       "    }\n",
       "\n",
       "    .dataframe tbody tr th {\n",
       "        vertical-align: top;\n",
       "    }\n",
       "\n",
       "    .dataframe thead th {\n",
       "        text-align: right;\n",
       "    }\n",
       "</style>\n",
       "<table border=\"1\" class=\"dataframe\">\n",
       "  <thead>\n",
       "    <tr style=\"text-align: right;\">\n",
       "      <th></th>\n",
       "      <th>Feature</th>\n",
       "      <th>Coefficient</th>\n",
       "    </tr>\n",
       "  </thead>\n",
       "  <tbody>\n",
       "    <tr>\n",
       "      <th>0</th>\n",
       "      <td>p_saving_rate</td>\n",
       "      <td>-0.932089</td>\n",
       "    </tr>\n",
       "    <tr>\n",
       "      <th>1</th>\n",
       "      <td>mortgage_rate</td>\n",
       "      <td>-1.597705</td>\n",
       "    </tr>\n",
       "    <tr>\n",
       "      <th>2</th>\n",
       "      <td>IPI_Cement</td>\n",
       "      <td>1.972511</td>\n",
       "    </tr>\n",
       "    <tr>\n",
       "      <th>3</th>\n",
       "      <td>PPI_Cement</td>\n",
       "      <td>-5.479726</td>\n",
       "    </tr>\n",
       "    <tr>\n",
       "      <th>4</th>\n",
       "      <td>permit</td>\n",
       "      <td>-0.605610</td>\n",
       "    </tr>\n",
       "    <tr>\n",
       "      <th>5</th>\n",
       "      <td>PPI_Concrete</td>\n",
       "      <td>17.576686</td>\n",
       "    </tr>\n",
       "    <tr>\n",
       "      <th>6</th>\n",
       "      <td>population</td>\n",
       "      <td>-10.890297</td>\n",
       "    </tr>\n",
       "    <tr>\n",
       "      <th>8</th>\n",
       "      <td>emratio</td>\n",
       "      <td>-6.519240</td>\n",
       "    </tr>\n",
       "    <tr>\n",
       "      <th>9</th>\n",
       "      <td>income</td>\n",
       "      <td>0.885070</td>\n",
       "    </tr>\n",
       "    <tr>\n",
       "      <th>10</th>\n",
       "      <td>new_private_hw_under</td>\n",
       "      <td>7.697529</td>\n",
       "    </tr>\n",
       "    <tr>\n",
       "      <th>11</th>\n",
       "      <td>GDP</td>\n",
       "      <td>33.428000</td>\n",
       "    </tr>\n",
       "    <tr>\n",
       "      <th>12</th>\n",
       "      <td>home_ow_rate</td>\n",
       "      <td>-0.486556</td>\n",
       "    </tr>\n",
       "    <tr>\n",
       "      <th>14</th>\n",
       "      <td>total_emp_cons</td>\n",
       "      <td>-6.282900</td>\n",
       "    </tr>\n",
       "    <tr>\n",
       "      <th>15</th>\n",
       "      <td>labor_percent</td>\n",
       "      <td>9.828900</td>\n",
       "    </tr>\n",
       "    <tr>\n",
       "      <th>16</th>\n",
       "      <td>all_Const_Emp</td>\n",
       "      <td>14.303469</td>\n",
       "    </tr>\n",
       "    <tr>\n",
       "      <th>17</th>\n",
       "      <td>monthly_supply</td>\n",
       "      <td>2.863966</td>\n",
       "    </tr>\n",
       "    <tr>\n",
       "      <th>18</th>\n",
       "      <td>unemployed_rate</td>\n",
       "      <td>4.051545</td>\n",
       "    </tr>\n",
       "    <tr>\n",
       "      <th>19</th>\n",
       "      <td>MSPUS</td>\n",
       "      <td>21.174538</td>\n",
       "    </tr>\n",
       "  </tbody>\n",
       "</table>\n",
       "</div>"
      ],
      "text/plain": [
       "                 Feature  Coefficient\n",
       "0          p_saving_rate    -0.932089\n",
       "1          mortgage_rate    -1.597705\n",
       "2             IPI_Cement     1.972511\n",
       "3             PPI_Cement    -5.479726\n",
       "4                 permit    -0.605610\n",
       "5           PPI_Concrete    17.576686\n",
       "6             population   -10.890297\n",
       "8                emratio    -6.519240\n",
       "9                 income     0.885070\n",
       "10  new_private_hw_under     7.697529\n",
       "11                   GDP    33.428000\n",
       "12          home_ow_rate    -0.486556\n",
       "14        total_emp_cons    -6.282900\n",
       "15         labor_percent     9.828900\n",
       "16         all_Const_Emp    14.303469\n",
       "17        monthly_supply     2.863966\n",
       "18       unemployed_rate     4.051545\n",
       "19                 MSPUS    21.174538"
      ]
     },
     "execution_count": 16,
     "metadata": {},
     "output_type": "execute_result"
    }
   ],
   "source": [
    "non_zero_coefficients_df"
   ]
  },
  {
   "cell_type": "code",
   "execution_count": 17,
   "metadata": {
    "colab": {
     "base_uri": "https://localhost:8080/",
     "height": 300
    },
    "id": "e93hxeHYvO9L",
    "outputId": "f5243982-3547-4711-c078-a7137616e7fa"
   },
   "outputs": [
    {
     "data": {
      "text/html": [
       "<div>\n",
       "<style scoped>\n",
       "    .dataframe tbody tr th:only-of-type {\n",
       "        vertical-align: middle;\n",
       "    }\n",
       "\n",
       "    .dataframe tbody tr th {\n",
       "        vertical-align: top;\n",
       "    }\n",
       "\n",
       "    .dataframe thead th {\n",
       "        text-align: right;\n",
       "    }\n",
       "</style>\n",
       "<table border=\"1\" class=\"dataframe\">\n",
       "  <thead>\n",
       "    <tr style=\"text-align: right;\">\n",
       "      <th></th>\n",
       "      <th>Feature</th>\n",
       "      <th>Coefficient</th>\n",
       "    </tr>\n",
       "  </thead>\n",
       "  <tbody>\n",
       "    <tr>\n",
       "      <th>7</th>\n",
       "      <td>new_private_house</td>\n",
       "      <td>-0.0</td>\n",
       "    </tr>\n",
       "    <tr>\n",
       "      <th>13</th>\n",
       "      <td>house_st</td>\n",
       "      <td>-0.0</td>\n",
       "    </tr>\n",
       "  </tbody>\n",
       "</table>\n",
       "</div>"
      ],
      "text/plain": [
       "              Feature  Coefficient\n",
       "7   new_private_house         -0.0\n",
       "13           house_st         -0.0"
      ]
     },
     "execution_count": 17,
     "metadata": {},
     "output_type": "execute_result"
    }
   ],
   "source": [
    "zero_coefficients_df"
   ]
  },
  {
   "cell_type": "markdown",
   "metadata": {
    "id": "nps0kQf-s0Bv"
   },
   "source": [
    "### Predicted vs Observed"
   ]
  },
  {
   "cell_type": "code",
   "execution_count": 18,
   "metadata": {
    "colab": {
     "base_uri": "https://localhost:8080/",
     "height": 564
    },
    "id": "rP_zNesnzSPb",
    "outputId": "d6d6f416-1d43-4477-dae8-227ff9cb1ace"
   },
   "outputs": [
    {
     "data": {
      "image/png": "[encoded data removed]",
      "text/plain": [
       "<Figure size 800x600 with 1 Axes>"
      ]
     },
     "metadata": {},
     "output_type": "display_data"
    }
   ],
   "source": [
    "import numpy as np\n",
    "import matplotlib.pyplot as plt\n",
    "\n",
    "plt.figure(figsize=(8, 6))\n",
    "plt.scatter(y_test, lasso_cv_predictions, alpha=0.5)\n",
    "plt.xlabel(\"Observed Values\")\n",
    "plt.ylabel(\"Predicted Values\")\n",
    "plt.title(\"Predicted vs. Observed Values\")\n",
    "plt.grid(True)\n",
    "\n",
    "# Add a diagonal line for reference (perfect predictions)\n",
    "x = np.linspace(min(y_test), max(y_test), 100)\n",
    "plt.plot(x, x, color='red', linestyle='--')\n",
    "\n",
    "plt.show()"
   ]
  },
  {
   "cell_type": "code",
   "execution_count": null,
   "metadata": {
    "id": "90HKWhHtsbs6"
   },
   "outputs": [],
   "source": []
  },
  {
   "cell_type": "code",
   "execution_count": null,
   "metadata": {},
   "outputs": [],
   "source": []
  }
 ],
 "metadata": {
  "colab": {
   "provenance": []
  },
  "kernelspec": {
   "display_name": "Python 3 (ipykernel)",
   "language": "python",
   "name": "python3"
  },
  "language_info": {
   "codemirror_mode": {
    "name": "ipython",
    "version": 3
   },
   "file_extension": ".py",
   "mimetype": "text/x-python",
   "name": "python",
   "nbconvert_exporter": "python",
   "pygments_lexer": "ipython3",
   "version": "3.11.4"
  }
 },
 "nbformat": 4,
 "nbformat_minor": 1
}
